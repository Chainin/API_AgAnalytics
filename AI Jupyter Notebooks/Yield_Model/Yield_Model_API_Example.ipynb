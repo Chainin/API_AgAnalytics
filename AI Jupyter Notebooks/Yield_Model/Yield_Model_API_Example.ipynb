{
 "cells": [
  {
   "cell_type": "markdown",
   "metadata": {},
   "source": [
    "# Ag-Analytics® - Yield Model API"
   ]
  },
  {
   "cell_type": "markdown",
   "metadata": {},
   "source": [
    "The Ag-Analytics® Yield Forecast API uses Artificial Intelligence algorithms to forecast the yield on a given field, \n",
    "based on geospatial data.\n",
    "\n",
    "Crop yield is a function of a large set of parameters, many of which are outside the control of the farmer. \n",
    "The forces of nature are unpredictable and can make or break a growing season, while chemical applications can be \n",
    "rendered ineffective by new weeds or pests. The current version of the yield model is relatively simple as compared \n",
    "to the number of factors that actually influence yield, however, it still provides insight and predictive power. \n",
    "Current yield model factors are location, crop season, seeding characteristics, planting date, application characteristics, \n",
    "soil characteristics, past growing history, weather data, and satellite imagery.\n"
   ]
  },
  {
   "cell_type": "code",
   "execution_count": 1,
   "metadata": {},
   "outputs": [
    {
     "data": {
      "application/javascript": [
       "IPython.notebook.set_autosave_interval(0)"
      ]
     },
     "metadata": {},
     "output_type": "display_data"
    },
    {
     "name": "stdout",
     "output_type": "stream",
     "text": [
      "Autosave disabled\n"
     ]
    }
   ],
   "source": [
    "import requests\n",
    "import json\n",
    "import time\n",
    "from pandas.io.json import json_normalize\n",
    "from collections import defaultdict\n",
    "import pandas as pd\n",
    "import zipfile, io\n",
    "from IPython.display import Image\n",
    "\n",
    "%matplotlib inline\n",
    "%autosave 0"
   ]
  },
  {
   "cell_type": "markdown",
   "metadata": {},
   "source": [
    "#### Request parameters details.\n",
    "Request URL: http://aganalyticsai.eastus2.cloudapp.azure.com/yieldmodel/api/v1.0/yieldmodel_forecast_v1\n",
    "Request Type: POST\n",
    "Request Content-Type: application/json\n",
    "\n",
    "1) MODELNAME (Type of Model, text, required): The type of AI Model\n",
    "e.g. \"NN\"\n",
    "\n",
    "2) SHAPE (GeoJson, text, required): The shape of a field in GeoJson format\n",
    "\n",
    "3) ScalarVariables (Json, text, required): The constants for the given Shape\n",
    "\n",
    "4) CropSeason (Text, required): Growing season year for prediction. 2013 to 2019. Ex. “2018”\n",
    "\n",
    "5) PlantingDay1(ScalarVariables, text, required): Date when planting occurred for crop of interest.\n",
    "e.g. PlantingDay1:\"05/20/2018\" (key, value in ScalarVariables Json)\n",
    "\n",
    "6) SeedingDensity(ScalarVariables,float,optional): The seeding density applied. Default 0\n",
    "e.g. SeedingDensity:30000 (key, value in ScalarVariables Json)\n",
    "\n",
    "7) HarvestDay(ScalarVariables, text, required): Date when harvest is expected.\n",
    "e.g. HarvestDay:“10/20/2018” (key, value in ScalarVariables Json)\n",
    "\n",
    "In order to get Ocp-Apim-Subscription-Key, please click on this link https://ag-analytics.org/developer/Session/SignInFromPayment"
   ]
  },
  {
   "cell_type": "markdown",
   "metadata": {},
   "source": [
    "### Request Parameters"
   ]
  },
  {
   "cell_type": "code",
   "execution_count": 4,
   "metadata": {},
   "outputs": [],
   "source": [
    "values = {\n",
    "\"MODELNAME\": \"NN\",\n",
    "\"SHAPE\": \"{\\\"type\\\":\\\"Feature\\\",\\\"geometry\\\":{\\\"type\\\":\\\"Polygon\\\",\\\"coordinates\\\":[[[-89.199484,40.972729],[-89.199773,40.97258],[-89.200135,40.972415],[-89.20034,40.972318],[-89.200445,40.972177],[-89.200439,40.972001],[-89.200404,40.971815],[-89.200245,40.971599],[-89.20004,40.971397],[-89.199869,40.971233],[-89.199865,40.971097],[-89.199952,40.970952],[-89.200264,40.97078],[-89.200517,40.970664],[-89.200903,40.970471],[-89.201168,40.970345],[-89.201324,40.970277],[-89.201407,40.970174],[-89.201428,40.970042],[-89.20271,40.970005],[-89.202738,40.970421],[-89.202844,40.970431],[-89.202851,40.970648],[-89.203123,40.970666],[-89.203216,40.973626],[-89.20332,40.973635],[-89.203281,40.972154],[-89.203277,40.972049],[-89.203227,40.970607],[-89.204645,40.97055],[-89.204639,40.970427],[-89.205456,40.970446],[-89.205638,40.970467],[-89.206002,40.970527],[-89.206306,40.97059],[-89.206516,40.970642],[-89.206711,40.97061],[-89.20688,40.970542],[-89.207086,40.970492],[-89.207267,40.970414],[-89.207449,40.970364],[-89.207667,40.970286],[-89.207849,40.970255],[-89.208057,40.970251],[-89.208287,40.970328],[-89.208494,40.970369],[-89.208672,40.970421],[-89.208866,40.970506],[-89.208972,40.970511],[-89.209009,40.970595],[-89.20893,40.970671],[-89.208736,40.970787],[-89.208535,40.970909],[-89.208325,40.971052],[-89.207907,40.971306],[-89.207633,40.971478],[-89.207313,40.971574],[-89.207065,40.971645],[-89.206566,40.971699],[-89.206246,40.971784],[-89.205998,40.971878],[-89.205548,40.972042],[-89.205013,40.97232],[-89.20468,40.972494],[-89.204246,40.972725],[-89.203988,40.972931],[-89.203819,40.973168],[-89.203666,40.973428],[-89.203616,40.973685],[-89.203552,40.973966],[-89.203548,40.9743],[-89.203411,40.974615],[-89.203284,40.974906],[-89.202723,40.975587],[-89.20283,40.975719],[-89.203383,40.975106],[-89.203522,40.974847],[-89.203658,40.974521],[-89.203723,40.974241],[-89.20381,40.97376],[-89.203891,40.973546],[-89.20407,40.973197],[-89.204197,40.973016],[-89.204369,40.972868],[-89.204686,40.972672],[-89.205018,40.972499],[-89.205351,40.972314],[-89.205742,40.972139],[-89.206047,40.971999],[-89.206367,40.971904],[-89.206907,40.971771],[-89.207303,40.971719],[-89.207551,40.971658],[-89.207846,40.971535],[-89.207938,40.971481],[-89.208059,40.971448],[-89.208267,40.971295],[-89.208534,40.971115],[-89.209089,40.970762],[-89.209108,40.971493],[-89.209143,40.972829],[-89.209176,40.974108],[-89.209236,40.977186],[-89.20442,40.977285],[-89.199613,40.977383],[-89.199533,40.974593],[-89.199484,40.972729]]]},\\\"properties\\\":{\\\"OBJECTID\\\":5102679,\\\"CALCACRES\\\":145.08999634,\\\"CALCACRES2\\\":null},\\\"id\\\":5102679}\",\n",
    "\"ScalarVariables\": {\n",
    "\"CropSeason\": \"2018\",\n",
    "\"PlantingDay1\": \"05/20/2018\",\n",
    "\"SeedingDensity\": \"30000\",\n",
    "\"HarvestDay\": \"10/20/2018\"\n",
    "}\n",
    "}\n",
    "\n",
    "# Basic Header Pattern.\n",
    "headers={'Content-Type':'application/json'}\n",
    "\n",
    "# Header for using a subscription key.\n",
    "# headers={'content-type': \"application/json\",'Ocp-Apim-Subscription-Key': \"xxxxxxxxxxxxxxxxxxxxxxxxxxxxxxxxxxx\"}  \n"
   ]
  },
  {
   "cell_type": "markdown",
   "metadata": {},
   "source": [
    "### API Function"
   ]
  },
  {
   "cell_type": "code",
   "execution_count": 5,
   "metadata": {},
   "outputs": [],
   "source": [
    "def yieldmodel(values,headers):\n",
    "    try:\n",
    "        url = \"https://agflaskdev.eastus2.cloudapp.azure.com/flask_api/api/v1.0/yieldmodel_forecast_v1\"\n",
    "        \n",
    "     \n",
    "        response = requests.post(url, json=values, headers=headers).json()\n",
    "        \n",
    "        print(response)\n",
    "\n",
    "        return response\n",
    "    \n",
    "    except Exception as e:\n",
    "        print(e)\n",
    "        raise e"
   ]
  },
  {
   "cell_type": "markdown",
   "metadata": {},
   "source": [
    "### Calling API Function and Displaying Result"
   ]
  },
  {
   "cell_type": "code",
   "execution_count": 6,
   "metadata": {},
   "outputs": [
    {
     "name": "stdout",
     "output_type": "stream",
     "text": [
      "{'raster_filename': 'result_yieldraster_20191202_161712_3847.tif', 'rasterinfo': [{'attributes': {'CellSize': [0.0001, -0.0001], 'CoordinateSystem': 'GEOGCS[\"WGS 84\",DATUM[\"WGS_1984\",SPHEROID[\"WGS 84\",6378137,298.257223563,AUTHORITY[\"EPSG\",\"7030\"]],AUTHORITY[\"EPSG\",\"6326\"]],PRIMEM[\"Greenwich\",0],UNIT[\"degree\",0.0174532925199433],AUTHORITY[\"EPSG\",\"4326\"]]', 'Extent': '-89.209236, 40.969983000000006, -89.19953600000001, 40.977383', 'Legend': [{'Area': '100.0 %', 'Count': 6584, 'CountAllPixels': 6584, 'Max': 858.3340940722671, 'Mean': 858.3340940722671, 'Min': 858.3340940722671, 'color': '#ff0000'}, {'Area': '100.0 %', 'Count': 6584, 'CountAllPixels': 6584, 'Max': 858.3340940722671, 'Mean': 858.3340940722671, 'Min': 858.3340940722671, 'color': '#ff6666'}, {'Area': '100.0 %', 'Count': 6584, 'CountAllPixels': 6584, 'Max': 858.3340940722671, 'Mean': 858.3340940722671, 'Min': 858.3340940722671, 'color': '#ffff66'}], 'Matrix': [74, 97], 'Max': 858.3340940722671, 'Mean': 858.3340940722669, 'Min': 858.3340940722671, 'OID': 0, 'Percentile5': 858.3340940722671, 'Percentile95': 858.3340940722671, 'Variety': 'NoVariety', 'pngb64': 'data:image/png;base64, iVBORw0KGgoAAAANSUhEUgAAAGEAAABKCAYAAACrbTpWAAAB20lEQVR4nO2ZUY6DMAxEx9WedQ/FZdkvJJQNEKiBsT3vq1KL6vgZGxJDYOb5d347Bg8sy0Ii83k7ACEJFEgCAZJAgCQQIAkESAIBkkCAJBAgCQRIAgGSQIAkECAJBEgCAZJAQGkJZpO9HQNQWILZRHOqWFYCiwCgsAQmJIGAUhJYBnFLGQlMg7iljARWAUARCaxtaKGEBHZKSGBuRUABCeytCCgggf0uAApIiIAkEJBaQoR5ACSXEAVJIEASCEgrIco8ABJLAGK8IwDJJUQhpQTms4MeKSVEI52EaHcBkExCRAFAMgkRBQBJJER6J+gRXkLUFrQmrISl+qMLAAJKyJR8s8nMJguzoAxtZ6GdYWEkZGDrAeLn6UAqcvT0RjcToj9utoysh0ZCpoG7ZmQ9NBKyJf8Mj0vI1m48uF1Cm/SKFX+0ZjcJWxVeMek99vLgJkHJPmYrRzSDuQo9EackaKj60IoYlpBp74aNYQkScB+7EtR+nqErIesWAsBZWGmTzUqvCD57Xwo/llO07nfLB90N9zBS3I8c6ry1f3SUgDvjONNZ/v3QK7Ar7e3Mf3u0zzskXIlr84IrAUadKx4yvln78IVbgUZN/JpvJHisP3wCPbgqwasAtYtKwB/XvrZmdizQPgAAAABJRU5ErkJggg=='}}]}\n"
     ]
    }
   ],
   "source": [
    "yield_response=yieldmodel(values,headers)"
   ]
  },
  {
   "cell_type": "markdown",
   "metadata": {},
   "source": [
    "### Displaying Output Image"
   ]
  },
  {
   "cell_type": "code",
   "execution_count": 8,
   "metadata": {},
   "outputs": [
    {
     "data": {
      "text/html": [
       "<style  type=\"text/css\" >\n",
       "    #T_9e50a340_151f_11ea_9b9a_40a8f0580b71row0_col4 {\n",
       "            background-color:  #ff0000;\n",
       "        }    #T_9e50a340_151f_11ea_9b9a_40a8f0580b71row1_col4 {\n",
       "            background-color:  #ff6666;\n",
       "        }    #T_9e50a340_151f_11ea_9b9a_40a8f0580b71row2_col4 {\n",
       "            background-color:  #ffff66;\n",
       "        }</style>  \n",
       "<table id=\"T_9e50a340_151f_11ea_9b9a_40a8f0580b71\" > \n",
       "<thead>    <tr> \n",
       "        <th class=\"blank level0\" ></th> \n",
       "        <th class=\"col_heading level0 col0\" >Area %</th> \n",
       "        <th class=\"col_heading level0 col1\" >Min</th> \n",
       "        <th class=\"col_heading level0 col2\" >Max</th> \n",
       "        <th class=\"col_heading level0 col3\" >Mean</th> \n",
       "        <th class=\"col_heading level0 col4\" >Color</th> \n",
       "    </tr></thead> \n",
       "<tbody>    <tr> \n",
       "        <th id=\"T_9e50a340_151f_11ea_9b9a_40a8f0580b71level0_row0\" class=\"row_heading level0 row0\" >0</th> \n",
       "        <td id=\"T_9e50a340_151f_11ea_9b9a_40a8f0580b71row0_col0\" class=\"data row0 col0\" >100.0 %</td> \n",
       "        <td id=\"T_9e50a340_151f_11ea_9b9a_40a8f0580b71row0_col1\" class=\"data row0 col1\" >858.334</td> \n",
       "        <td id=\"T_9e50a340_151f_11ea_9b9a_40a8f0580b71row0_col2\" class=\"data row0 col2\" >858.334</td> \n",
       "        <td id=\"T_9e50a340_151f_11ea_9b9a_40a8f0580b71row0_col3\" class=\"data row0 col3\" >858.334</td> \n",
       "        <td id=\"T_9e50a340_151f_11ea_9b9a_40a8f0580b71row0_col4\" class=\"data row0 col4\" >#ff0000</td> \n",
       "    </tr>    <tr> \n",
       "        <th id=\"T_9e50a340_151f_11ea_9b9a_40a8f0580b71level0_row1\" class=\"row_heading level0 row1\" >1</th> \n",
       "        <td id=\"T_9e50a340_151f_11ea_9b9a_40a8f0580b71row1_col0\" class=\"data row1 col0\" >100.0 %</td> \n",
       "        <td id=\"T_9e50a340_151f_11ea_9b9a_40a8f0580b71row1_col1\" class=\"data row1 col1\" >858.334</td> \n",
       "        <td id=\"T_9e50a340_151f_11ea_9b9a_40a8f0580b71row1_col2\" class=\"data row1 col2\" >858.334</td> \n",
       "        <td id=\"T_9e50a340_151f_11ea_9b9a_40a8f0580b71row1_col3\" class=\"data row1 col3\" >858.334</td> \n",
       "        <td id=\"T_9e50a340_151f_11ea_9b9a_40a8f0580b71row1_col4\" class=\"data row1 col4\" >#ff6666</td> \n",
       "    </tr>    <tr> \n",
       "        <th id=\"T_9e50a340_151f_11ea_9b9a_40a8f0580b71level0_row2\" class=\"row_heading level0 row2\" >2</th> \n",
       "        <td id=\"T_9e50a340_151f_11ea_9b9a_40a8f0580b71row2_col0\" class=\"data row2 col0\" >100.0 %</td> \n",
       "        <td id=\"T_9e50a340_151f_11ea_9b9a_40a8f0580b71row2_col1\" class=\"data row2 col1\" >858.334</td> \n",
       "        <td id=\"T_9e50a340_151f_11ea_9b9a_40a8f0580b71row2_col2\" class=\"data row2 col2\" >858.334</td> \n",
       "        <td id=\"T_9e50a340_151f_11ea_9b9a_40a8f0580b71row2_col3\" class=\"data row2 col3\" >858.334</td> \n",
       "        <td id=\"T_9e50a340_151f_11ea_9b9a_40a8f0580b71row2_col4\" class=\"data row2 col4\" >#ffff66</td> \n",
       "    </tr></tbody> \n",
       "</table> "
      ],
      "text/plain": [
       "<pandas.io.formats.style.Styler at 0x22bec54d6a0>"
      ]
     },
     "execution_count": 8,
     "metadata": {},
     "output_type": "execute_result"
    }
   ],
   "source": [
    "# Image legend.\n",
    "df=defaultdict(list)\n",
    "for resp in yield_response[\"rasterinfo\"][0]['attributes']['Legend']:\n",
    "    df['Area %'].append(resp['Area'])\n",
    "    df['Min'].append(resp['Min'])\n",
    "    df['Max'].append(resp['Max'])\n",
    "    df['Mean'].append(resp['Mean'])\n",
    "    df['Color'].append(resp['color'])\n",
    "\n",
    "# Create a Data Frame from the dictionary and display.\n",
    "yield_df=pd.DataFrame.from_dict(df)\n",
    "yield_df = yield_df.style.applymap(lambda x:\"background-color: %s\"%x, subset=['Color'])\n",
    "yield_df"
   ]
  },
  {
   "cell_type": "code",
   "execution_count": 9,
   "metadata": {},
   "outputs": [
    {
     "data": {
      "text/html": [
       "<img src=\"data:image/png;base64, iVBORw0KGgoAAAANSUhEUgAAAGEAAABKCAYAAACrbTpWAAAB20lEQVR4nO2ZUY6DMAxEx9WedQ/FZdkvJJQNEKiBsT3vq1KL6vgZGxJDYOb5d347Bg8sy0Ii83k7ACEJFEgCAZJAgCQQIAkESAIBkkCAJBAgCQRIAgGSQIAkECAJBEgCAZJAQGkJZpO9HQNQWILZRHOqWFYCiwCgsAQmJIGAUhJYBnFLGQlMg7iljARWAUARCaxtaKGEBHZKSGBuRUABCeytCCgggf0uAApIiIAkEJBaQoR5ACSXEAVJIEASCEgrIco8ABJLAGK8IwDJJUQhpQTms4MeKSVEI52EaHcBkExCRAFAMgkRBQBJJER6J+gRXkLUFrQmrISl+qMLAAJKyJR8s8nMJguzoAxtZ6GdYWEkZGDrAeLn6UAqcvT0RjcToj9utoysh0ZCpoG7ZmQ9NBKyJf8Mj0vI1m48uF1Cm/SKFX+0ZjcJWxVeMek99vLgJkHJPmYrRzSDuQo9EackaKj60IoYlpBp74aNYQkScB+7EtR+nqErIesWAsBZWGmTzUqvCD57Xwo/llO07nfLB90N9zBS3I8c6ry1f3SUgDvjONNZ/v3QK7Ar7e3Mf3u0zzskXIlr84IrAUadKx4yvln78IVbgUZN/JpvJHisP3wCPbgqwasAtYtKwB/XvrZmdizQPgAAAABJRU5ErkJggg==\" width=\"400\" height=\"200\"/>"
      ],
      "text/plain": [
       "<IPython.core.display.Image object>"
      ]
     },
     "execution_count": 9,
     "metadata": {},
     "output_type": "execute_result"
    }
   ],
   "source": [
    "# Display image of field.\n",
    "yield_image = yield_response[\"rasterinfo\"][0]['attributes'][\"pngb64\"]\n",
    "Image(url = yield_image, width = 400, height = 200)"
   ]
  },
  {
   "cell_type": "code",
   "execution_count": null,
   "metadata": {},
   "outputs": [],
   "source": []
  }
 ],
 "metadata": {
  "kernelspec": {
   "display_name": "agflask-env",
   "language": "python",
   "name": "agflask-env"
  },
  "language_info": {
   "codemirror_mode": {
    "name": "ipython",
    "version": 3
   },
   "file_extension": ".py",
   "mimetype": "text/x-python",
   "name": "python",
   "nbconvert_exporter": "python",
   "pygments_lexer": "ipython3",
   "version": "3.6.8"
  }
 },
 "nbformat": 4,
 "nbformat_minor": 2
}
