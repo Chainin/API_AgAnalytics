{
 "cells": [
  {
   "cell_type": "markdown",
   "metadata": {},
   "source": [
    "# Ag-Analytics - Harvest Date API - Demo"
   ]
  },
  {
   "cell_type": "markdown",
   "metadata": {},
   "source": [
    "In the modern agriculture industry, people often use a crop calendar, Growing Degree Days(GDD) or self-reports to predict or trace back the crop harvest date for a given year. However, the information coming from the historical crop calendar or the estimated GDDs are known to be inaccurate for local regions and can be misleading, especially in a year with cooler or warmer spring. Besides, self-reports may lack consistency across different farmers and will not be available to the public in a timely manner. Therefore, there is an urgent need for a product can provide the estimated harvest date with higher accuracy and can be delivered to the public on time."
   ]
  },
  {
   "cell_type": "markdown",
   "metadata": {},
   "source": [
    "The Ag-Analytics provides the Harvest Date API service which can trace back to a given year when the crop was harvested on the field. This service is developed from our near real-time ground truth agriculture data, the historical weather and soil data, and weekly high-resolution remote sensing imagery. It provides a near-real-time of harvest date prediction of a given year with the spatial resolution at 8m. Users can provide a polygon of their field in specific formats and the year of interest to retrieve the estimated harvest date. "
   ]
  },
  {
   "cell_type": "code",
   "execution_count": 2,
   "metadata": {},
   "outputs": [
    {
     "data": {
      "application/javascript": [
       "IPython.notebook.set_autosave_interval(0)"
      ]
     },
     "metadata": {},
     "output_type": "display_data"
    },
    {
     "name": "stdout",
     "output_type": "stream",
     "text": [
      "Autosave disabled\n"
     ]
    }
   ],
   "source": [
    "import requests\n",
    "import json\n",
    "import time\n",
    "from pandas.io.json import json_normalize\n",
    "from collections import defaultdict\n",
    "import pandas as pd\n",
    "import zipfile, io\n",
    "from IPython.display import Image\n",
    "\n",
    "%matplotlib inline\n",
    "%autosave 0"
   ]
  },
  {
   "cell_type": "markdown",
   "metadata": {},
   "source": [
    "### Request Parameter Details"
   ]
  },
  {
   "cell_type": "markdown",
   "metadata": {},
   "source": [
    "Request URL:  ##https://agflaskdev.eastus2.cloudapp.azure.com/flask_api/api/v1.0/PlantingDate_Model\n",
    "\n",
    "1). __SHAPE__ (geometry, file/text, required): The structure of the geometry can be one of the following.\n",
    "    \n",
    "    i. JSON geometry objects returned by the arcgis rest api, (file/text) \n",
    "    \n",
    "    ii. GEOJSON (file/text) \n",
    "    \n",
    "    \n",
    "2). __CropSeason__(string): The year of interests to retrive the harvest date information of the AOI.\n",
    "    \n",
    "    parameter example: \"2018\"\n",
    "\n",
    "3). _ModelType(string)_: Classificaiton algorithums. This version of Crop Identification supports: Decision Tree and Neural Networks classification algorithum.\n",
    "\n",
    "    Prameter example:'TREE' or 'NN'(Optional, default as 'NN)"
   ]
  },
  {
   "cell_type": "markdown",
   "metadata": {},
   "source": [
    "### Request Request in Json"
   ]
  },
  {
   "cell_type": "markdown",
   "metadata": {},
   "source": [
    "The Harvest Date API service takes the request in Json format. Below are examples formatted in Json. "
   ]
  },
  {
   "cell_type": "code",
   "execution_count": 3,
   "metadata": {},
   "outputs": [],
   "source": [
    "request = {\n",
    "    \"SHAPE\": \"{\\\"type\\\":\\\"Feature\\\",\\\"properties\\\":{},\\\"geometry\\\":{\\\"type\\\":\\\"Polygon\\\",\\\"coordinates\\\":[[[-100.953840994,38.5946753571],[-100.953832008,38.5948720599],[-100.953876941,38.5952162884],[-100.953957821,38.5955324152],[-100.953984781,38.5955745654],[-100.954029714,38.5957361407],[-100.954245394,38.5961716896],[-100.954452087,38.5964807873],[-100.95473966,38.5968179832],[-100.954910406,38.596965506],[-100.954910406,38.5969795557],[-100.954982299,38.5970287299],[-100.954982299,38.5970427797],[-100.955359739,38.5973378239],[-100.955377712,38.5973378239],[-100.955629338,38.5975134449],[-100.956042724,38.5977312143],[-100.956357257,38.5978646856],[-100.956707736,38.5979911318],[-100.957175042,38.598110553],[-100.957615388,38.5981878255],[-100.958055734,38.598229974],[-100.958514053,38.5982369988],[-100.958963386,38.5982088998],[-100.959412719,38.5981456769],[-100.959906984,38.5980332805],[-100.96023949,38.5979279087],[-100.960598957,38.5977874128],[-100.960976396,38.5976047676],[-100.961281942,38.597422122],[-100.961560528,38.5972113765],[-100.961578502,38.5972113765],[-100.961848101,38.5969865806],[-100.961982901,38.5968390579],[-100.962018848,38.5968179832],[-100.962189594,38.5966283107],[-100.962315407,38.5964526876],[-100.962405274,38.5964526876],[-100.962405274,38.5963894631],[-100.962369327,38.5963894631],[-100.962369327,38.5963754133],[-100.962513113,38.5961716896],[-100.96262994,38.5959539155],[-100.962800686,38.5955324152],[-100.962908526,38.595054712],[-100.962926499,38.5948580097],[-100.962890553,38.5948509846],[-100.962962446,38.5948650348],[-100.963025352,38.5947947839],[-100.962998393,38.5947877588],[-100.962989406,38.5947666835],[-100.962917513,38.5947526333],[-100.962935486,38.5947245329],[-100.962926499,38.5946894073],[-100.962881566,38.5947034575],[-100.962665886,38.5946823822],[-100.958541013,38.5946753571],[-100.9584152,38.5947175077],[-100.958316347,38.5947175077],[-100.958298374,38.5947034575],[-100.958154587,38.5946753571],[-100.953840994,38.5946753571]]]}}\",\n",
    "    \"ScalarVariables\": {\"CropSeason\": \"2018\"},\n",
    "    \"ModelType\":\"NN\"}"
   ]
  },
  {
   "cell_type": "markdown",
   "metadata": {},
   "source": [
    "### API Function"
   ]
  },
  {
   "cell_type": "code",
   "execution_count": null,
   "metadata": {},
   "outputs": [],
   "source": [
    "def HarvestDate(request):\n",
    "    try:\n",
    "        url =  #'https://agflaskdev.eastus2.cloudapp.azure.com/flask_api/api/v1.0/PlantingDate_Model'\n",
    "        \n",
    "        response = requests.post(url, json = request,headers = {}).json()\n",
    "        \n",
    "        print(response)\n",
    "        \n",
    "        return response\n",
    "    \n",
    "    except Exception as e:\n",
    "        print(e)\n",
    "        raise e\n",
    "   "
   ]
  },
  {
   "cell_type": "markdown",
   "metadata": {},
   "source": [
    "### Calling API Function and Displaying Response"
   ]
  },
  {
   "cell_type": "code",
   "execution_count": null,
   "metadata": {},
   "outputs": [],
   "source": []
  },
  {
   "cell_type": "markdown",
   "metadata": {},
   "source": [
    "### Displaying Output "
   ]
  },
  {
   "cell_type": "code",
   "execution_count": null,
   "metadata": {},
   "outputs": [],
   "source": []
  }
 ],
 "metadata": {
  "kernelspec": {
   "display_name": "agflask-env",
   "language": "python",
   "name": "agflask-env"
  },
  "language_info": {
   "codemirror_mode": {
    "name": "ipython",
    "version": 3
   },
   "file_extension": ".py",
   "mimetype": "text/x-python",
   "name": "python",
   "nbconvert_exporter": "python",
   "pygments_lexer": "ipython3",
   "version": "3.6.6"
  }
 },
 "nbformat": 4,
 "nbformat_minor": 2
}
