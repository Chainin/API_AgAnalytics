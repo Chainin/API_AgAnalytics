{
 "cells": [
  {
   "cell_type": "markdown",
   "metadata": {},
   "source": [
    "# Ag-Analytics-Harmonised Landsat Sentinel API-Demo\n"
   ]
  },
  {
   "cell_type": "markdown",
   "metadata": {},
   "source": [
    "<br>The Harmonized Landsat and Sentinel-2 (HLS) is a NASA initiative to produce a Virtual Constellation (VC) of surface reflectance (SR) data from the Operational Land Imager (OLI) and MultiSpectral Instrument (MSI) onboard the Landsat 8 and Sentinel-2 remote sensing satellites, respectively. The data from these satellites creates unprecedented opportunities for timely and accurate observation of Earth status and dynamics at moderate (<30 m) spatial resolution every 2-3 days.\n",
    "\n",
    "<br>The Ag-Analytics provides the service which a user can provide a polygon in specific formats in additional with more customized options to retrieve the dynamics of their land at various times for Landsat from 2013 and Sentinel-2 from 2015 calendar years. Additionally, this service also provides information on cloud cover, statistics, Normalized Difference Vegetation Index in addition to MSI bands information.\n",
    "\n",
    "<br>\n",
    "\n",
    "<br> Experience the usage of this service on Ag-Analytics website using below link\n",
    "<br>https://ag-analytics.portal.azure-api.net/docs/services/harmonized-landsat-sentinel-service/operations/hls-service"
   ]
  },
  {
   "cell_type": "code",
   "execution_count": 1,
   "metadata": {},
   "outputs": [
    {
     "data": {
      "application/javascript": [
       "IPython.notebook.set_autosave_interval(0)"
      ]
     },
     "metadata": {},
     "output_type": "display_data"
    },
    {
     "name": "stdout",
     "output_type": "stream",
     "text": [
      "Autosave disabled\n"
     ]
    }
   ],
   "source": [
    "import requests\n",
    "import json\n",
    "import time\n",
    "from pandas.io.json import json_normalize\n",
    "from collections import defaultdict\n",
    "import pandas as pd\n",
    "import zipfile, io\n",
    "from IPython.display import Image\n",
    "\n",
    "%matplotlib inline\n",
    "%autosave 0"
   ]
  },
  {
   "cell_type": "markdown",
   "metadata": {},
   "source": [
    "###### Request parameters details\n",
    "\n",
    "Request URL: https://aganalyticsapimanagementservice.azure-api.net/hls/detect_and_clip_tiles\n",
    "\n",
    "\n",
    "1) aoi (geometry, file/text, required): The structure of the geometry can be one of the following.\n",
    "<br>\n",
    "i.\t  JSON geometry objects returned by the arcgis rest api, (file/text) \n",
    "ii.\t  GEOJSON (file/text)\n",
    "iii.  Shapefile (file)\n",
    "iv.\t  Raster of tiff extension (file)\n",
    "\n",
    "\n",
    "2) Band (Spectral band name, list, required): Provide the list of HLS Spectral band names to retrieve for given aoi<br>\n",
    "•\tCurrently Supporting: Red, Green, Blue, NDVI, Coastal Aerosol, NIR\n",
    "\n",
    "\n",
    "3) satellite (Type of satellite, text, optional):<br>  Landsat or Sentinel. Default (Landsat)\n",
    "\n",
    "4) resolution (cellsize in meters, float, optional):<br> Default (0.0001)\n",
    "\n",
    "\n",
    "5) Startdate (Date, mm/dd/yyyy, optional): Enter the starting date to capture the details from Landsat/Sentinel-2<br>\n",
    "•\tYear in Startdate for Landsat should start from 2013 <br>\n",
    "•\tYear in Startdate for Sentinel should start from 2015 <br>\n",
    "•\tNote Startdate and Enddate both should be given, In the absence of other the service retrieves the latest information available on the land.<br>\n",
    "\n",
    "6) Enddate (Date, mm/dd/yyyy, optional): Enter the end date to capture the details from Landsat/Sentinel-2<br>\n",
    "•\tYear in Enddate for Landsat can be till current year <br>\n",
    "•\tYear in Enddate for Sentinel can be till current year <br>\n",
    "•\tNote Startdate and Enddate both should be given, In the absence of other the service retrieves the latest information available on the land<br>\n",
    "\n",
    "7) byweek (int,boolean,optional):This parameter will mosaic the rasters in a week Default 1\n",
    "\n",
    "\n",
    "In order to get Ocp-Apim-Subscription-Key, please click on this link https://ag-analytics.org/developer/Session/SignInFromPayment"
   ]
  },
  {
   "cell_type": "markdown",
   "metadata": {},
   "source": [
    "### Request Parameters"
   ]
  },
  {
   "cell_type": "code",
   "execution_count": 2,
   "metadata": {},
   "outputs": [],
   "source": [
    "values={\"aoi\": '{\"type\":\"Feature\",\"geometry\":{\"type\":\"Polygon\",\"coordinates\":[[[-93.511545,42.071053],[-93.511565,42.074566],[-93.50667,42.074588],[-93.501908,42.074559],[-93.501936,42.071045],[-93.511545,42.071053]]]},\"properties\":{\"OBJECTID\":3350330,\"CALCACRES\":77.09999847,\"CALCACRES2\":null},\"id\":3350330}',\n",
    "\"Band\": \"['NDVI']\",\n",
    "\"Enddate\": \"3/8/2019\",\n",
    "\"Startdate\": \"3/2/2019\",\n",
    "\"legendtype\": \"Relative\",\n",
    "\"satellite\": \"Landsat,Sentinel\",\n",
    "\"resolution\":\"0.00001\",\n",
    "\"byweek\":\"1\"}\n",
    "\n",
    "\n",
    "    \n",
    "headers={'Content-Type':'application/x-www-form-urlencoded','Ocp-Apim-Subscription-Key': 'xxxxxxxxxxxxxxxxxxxxxxxxxxxxxx'}\n",
    "           "
   ]
  },
  {
   "cell_type": "markdown",
   "metadata": {},
   "source": [
    "###  API Function"
   ]
  },
  {
   "cell_type": "code",
   "execution_count": 3,
   "metadata": {},
   "outputs": [],
   "source": [
    "def harmonisedlandsatdata(values,headers):\n",
    "    try:\n",
    "        url = \"https://aganalyticsapimanagementservice.azure-api.net/detect_and_clip_tiles\"\n",
    "        \n",
    "     \n",
    "        response = requests.post(url, data=values,headers=headers).json()\n",
    "        \n",
    "        print(response)\n",
    "\n",
    "        return response\n",
    "    \n",
    "    except Exception as e:\n",
    "        print(e)\n",
    "        raise e"
   ]
  },
  {
   "cell_type": "markdown",
   "metadata": {},
   "source": [
    "### Calling API Function and Displaying Response"
   ]
  },
  {
   "cell_type": "code",
   "execution_count": 4,
   "metadata": {},
   "outputs": [
    {
     "name": "stdout",
     "output_type": "stream",
     "text": [
      "[{'Values': '', 'Xcoordinates': '', 'Ycoordinates': '', 'band': 'NDVI', 'download_url': 'downloads/raster_bandNDVI_date2019196-2019202_20190807_224634_3097.tif', 'error': '', 'features': [{'attributes': {'CellSize': [1e-05, -1e-05], 'CoordinateSystem': 'GEOGCS[\"WGS 84\",DATUM[\"WGS_1984\",SPHEROID[\"WGS 84\",6378137,298.257223563,AUTHORITY[\"EPSG\",\"7030\"]],AUTHORITY[\"EPSG\",\"6326\"]],PRIMEM[\"Greenwich\",0,AUTHORITY[\"EPSG\",\"8901\"]],UNIT[\"degree\",0.0174532925199433,AUTHORITY[\"EPSG\",\"9122\"]],AUTHORITY[\"EPSG\",\"4326\"]]', 'Extent': '-93.51123513090414, 42.07088071607389, -93.50159513090414, 42.074410716073885', 'Legend': [{'Area': '0.91 %', 'Count': 2577, 'CountAllPixels': 282639, 'Max': 0.2587678168353666, 'Mean': 0.23697687801293443, 'Min': 0.21518593919050227, 'color': '#ff0000'}, {'Area': '1.86 %', 'Count': 5255, 'CountAllPixels': 282639, 'Max': 0.30234969448023097, 'Mean': 0.28055875565779875, 'Min': 0.2587678168353666, 'color': '#ff6666'}, {'Area': '8.33 %', 'Count': 23546, 'CountAllPixels': 282639, 'Max': 0.3459315721250953, 'Mean': 0.32414063330266313, 'Min': 0.30234969448023097, 'color': '#ffff66'}, {'Area': '22.14 %', 'Count': 62577, 'CountAllPixels': 282639, 'Max': 0.3895134497699596, 'Mean': 0.36772251094752745, 'Min': 0.3459315721250953, 'color': '#ffff00'}, {'Area': '48.11 %', 'Count': 135985, 'CountAllPixels': 282639, 'Max': 0.433095327414824, 'Mean': 0.4113043885923918, 'Min': 0.3895134497699596, 'color': '#66ff66'}, {'Area': '18.65 %', 'Count': 52699, 'CountAllPixels': 282639, 'Max': 0.4766772050596883, 'Mean': 0.45488626623725614, 'Min': 0.433095327414824, 'color': '#00ff00'}], 'Matrix': [353, 964], 'Max': 0.4766772050596883, 'Mean': 0.3986039581129466, 'Min': 0.21518593919050227, 'OID': 0, 'Percentile5': 0.32184541615432094, 'Percentile95': 0.4572474782076378, 'Std': 0.04128964324107945, 'Variety': 'NoVariety', 'pngb64': 'data:image/png;base64, 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'}}], 'tiledate': '07/15/2019-07/21/2019'}]\n"
     ]
    }
   ],
   "source": [
    "hlsresponse=harmonisedlandsatdata(values,headers)"
   ]
  },
  {
   "cell_type": "markdown",
   "metadata": {},
   "source": [
    "### Displaying  Output Image"
   ]
  },
  {
   "cell_type": "code",
   "execution_count": 5,
   "metadata": {},
   "outputs": [
    {
     "name": "stdout",
     "output_type": "stream",
     "text": [
      "Legend Values :  [{'Area': '0.91 %', 'Count': 2577, 'CountAllPixels': 282639, 'Max': 0.2587678168353666, 'Mean': 0.23697687801293443, 'Min': 0.21518593919050227, 'color': '#ff0000'}, {'Area': '1.86 %', 'Count': 5255, 'CountAllPixels': 282639, 'Max': 0.30234969448023097, 'Mean': 0.28055875565779875, 'Min': 0.2587678168353666, 'color': '#ff6666'}, {'Area': '8.33 %', 'Count': 23546, 'CountAllPixels': 282639, 'Max': 0.3459315721250953, 'Mean': 0.32414063330266313, 'Min': 0.30234969448023097, 'color': '#ffff66'}, {'Area': '22.14 %', 'Count': 62577, 'CountAllPixels': 282639, 'Max': 0.3895134497699596, 'Mean': 0.36772251094752745, 'Min': 0.3459315721250953, 'color': '#ffff00'}, {'Area': '48.11 %', 'Count': 135985, 'CountAllPixels': 282639, 'Max': 0.433095327414824, 'Mean': 0.4113043885923918, 'Min': 0.3895134497699596, 'color': '#66ff66'}, {'Area': '18.65 %', 'Count': 52699, 'CountAllPixels': 282639, 'Max': 0.4766772050596883, 'Mean': 0.45488626623725614, 'Min': 0.433095327414824, 'color': '#00ff00'}]\n"
     ]
    },
    {
     "data": {
      "text/html": [
       "<img src=\"data:image/png;base64, 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\"/>"
      ],
      "text/plain": [
       "<IPython.core.display.Image object>"
      ]
     },
     "execution_count": 5,
     "metadata": {},
     "output_type": "execute_result"
    }
   ],
   "source": [
    "\n",
    "\n",
    "for resp in hlsresponse:\n",
    "    if resp[\"band\"]==\"NDVI\" and resp[\"download_url\"]!=\"\":\n",
    "        \n",
    "        print(\"Legend Values : \",resp[\"features\"][0]['attributes']['Legend'])\n",
    "        \n",
    "        img_uri=resp[\"features\"][0]['attributes'][\"pngb64\"]\n",
    "        \n",
    "        Image(url=img_uri)\n",
    "\n",
    "        \n",
    "        \n",
    "\n",
    "Image(url=img_uri)        \n",
    "        "
   ]
  }
 ],
 "metadata": {
  "kernelspec": {
   "display_name": "Python 3",
   "language": "python",
   "name": "python3"
  },
  "language_info": {
   "codemirror_mode": {
    "name": "ipython",
    "version": 3
   },
   "file_extension": ".py",
   "mimetype": "text/x-python",
   "name": "python",
   "nbconvert_exporter": "python",
   "pygments_lexer": "ipython3",
   "version": "3.6.6"
  }
 },
 "nbformat": 4,
 "nbformat_minor": 2
}
